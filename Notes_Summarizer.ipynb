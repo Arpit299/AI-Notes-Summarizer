{
  "cells": [
    {
      "cell_type": "code",
      "execution_count": null,
      "metadata": {
        "id": "mVMIbaWwmtV9"
      },
      "outputs": [],
      "source": [
        "!pip install transformers\n",
        "!pip install torch\n",
        "!pip install sentencepiece\n",
        "!pip install PyPDF2\n",
        "!pip install ipywidgets\n"
      ]
    },
    {
      "cell_type": "code",
      "execution_count": null,
      "metadata": {
        "id": "A-ii3cTMmx7t"
      },
      "outputs": [],
      "source": [
        "import os\n",
        "import PyPDF2\n",
        "from transformers import pipeline\n",
        "from google.colab import files\n",
        "from IPython.display import display\n",
        "import ipywidgets as widgets\n"
      ]
    },
    {
      "cell_type": "code",
      "execution_count": null,
      "metadata": {
        "id": "cauRkMaNmx1M"
      },
      "outputs": [],
      "source": [
        "print(\"Upload your text or PDF files containing notes:\")\n",
        "uploaded_files = files.upload()\n",
        "\n",
        "notes_text = \"\"\n",
        "\n",
        "def extract_text_from_pdf(path):\n",
        "    text = \"\"\n",
        "    with open(path, \"rb\") as f:\n",
        "        reader = PyPDF2.PdfReader(f)\n",
        "        for page in reader.pages:\n",
        "            text += page.extract_text()\n",
        "    return text\n",
        "\n",
        "for filename in uploaded_files.keys():\n",
        "    if filename.endswith(\".txt\"):\n",
        "        with open(filename, \"r\", encoding=\"utf-8\") as f:\n",
        "            notes_text += f.read() + \"\\n\\n\"\n",
        "    elif filename.endswith(\".pdf\"):\n",
        "        notes_text += extract_text_from_pdf(filename) + \"\\n\\n\"\n",
        "    else:\n",
        "        print(f\"Skipped unsupported file: {filename}\")\n",
        "\n",
        "print(\"Notes uploaded successfully! Total characters:\", len(notes_text))\n"
      ]
    },
    {
      "cell_type": "code",
      "execution_count": null,
      "metadata": {
        "colab": {
          "background_save": true
        },
        "id": "siQbmu-hmxxZ"
      },
      "outputs": [],
      "source": [
        "model_dropdown = widgets.Dropdown(\n",
        "    options=['facebook/bart-large-cnn', 't5-small', 'google/pegasus-xsum'],\n",
        "    value='facebook/bart-large-cnn',\n",
        "    description='Model:',\n",
        ")\n",
        "display(model_dropdown)\n",
        "\n",
        "summary_length_slider = widgets.IntRangeSlider(\n",
        "    value=[40, 150],\n",
        "    min=20,\n",
        "    max=500,\n",
        "    step=10,\n",
        "    description='Summary Length:',\n",
        "    continuous_update=False\n",
        ")\n",
        "display(summary_length_slider)\n"
      ]
    },
    {
      "cell_type": "code",
      "execution_count": null,
      "metadata": {
        "colab": {
          "background_save": true
        },
        "id": "ImbvZIBpmxtw"
      },
      "outputs": [],
      "source": [
        "def summarize_notes(model_name, min_len, max_len):\n",
        "    summarizer = pipeline(\"summarization\", model=model_name)\n",
        "\n",
        "    # Split into chunks if text is long\n",
        "    max_chunk_size = 1000\n",
        "    chunks = [notes_text[i:i+max_chunk_size] for i in range(0, len(notes_text), max_chunk_size)]\n",
        "\n",
        "    summaries = []\n",
        "    for chunk in chunks:\n",
        "        summary = summarizer(chunk, max_length=max_len, min_length=min_len, do_sample=False)[0]['summary_text']\n",
        "        summaries.append(summary)\n",
        "\n",
        "    final_summary = \" \".join(summaries)\n",
        "    return final_summary\n"
      ]
    },
    {
      "cell_type": "code",
      "execution_count": null,
      "metadata": {
        "colab": {
          "background_save": true
        },
        "id": "jvaDSdjhmxnm"
      },
      "outputs": [],
      "source": [
        "start_button = widgets.Button(description=\"Generate Summary\")\n",
        "output_area = widgets.Output()\n",
        "display(start_button, output_area)\n",
        "\n",
        "def on_button_click(b):\n",
        "    with output_area:\n",
        "        output_area.clear_output()\n",
        "        print(\"Generating summary...\")\n",
        "        model_name = model_dropdown.value\n",
        "        min_len, max_len = summary_length_slider.value\n",
        "        final_summary = summarize_notes(model_name, min_len, max_len)\n",
        "\n",
        "        # Show preview of original notes\n",
        "        print(\"\\n--- Original Notes Preview ---\\n\")\n",
        "        print(notes_text[:1000], \"...\\n\")\n",
        "\n",
        "        # Show summarized notes\n",
        "        print(\"\\n--- Summarized Notes ---\\n\")\n",
        "        print(final_summary)\n",
        "\n",
        "        # Save summary to file\n",
        "        with open(\"summarized_notes.txt\", \"w\", encoding=\"utf-8\") as f:\n",
        "            f.write(final_summary)\n",
        "        files.download(\"summarized_notes.txt\")\n",
        "        print(\"\\n✅ Summary saved and downloaded as 'summarized_notes.txt'!\")\n",
        "\n",
        "start_button.on_click(on_button_click)\n"
      ]
    },
    {
      "cell_type": "code",
      "execution_count": null,
      "metadata": {
        "colab": {
          "background_save": true
        },
        "id": "JeOPX9AdmxeD"
      },
      "outputs": [],
      "source": []
    }
  ],
  "metadata": {
    "accelerator": "GPU",
    "colab": {
      "gpuType": "T4",
      "provenance": []
    },
    "kernelspec": {
      "display_name": "Python 3",
      "name": "python3"
    },
    "language_info": {
      "name": "python"
    }
  },
  "nbformat": 4,
  "nbformat_minor": 0
}